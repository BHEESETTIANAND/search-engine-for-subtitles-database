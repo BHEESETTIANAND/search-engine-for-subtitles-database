{
  "cells": [
    {
      "cell_type": "code",
      "execution_count": null,
      "id": "479c13d5-59a3-4f37-8e61-f99b0ebd008a",
      "metadata": {
        "id": "479c13d5-59a3-4f37-8e61-f99b0ebd008a"
      },
      "outputs": [],
      "source": [
        "import pandas as pd\n",
        "import numpy as np"
      ]
    },
    {
      "cell_type": "code",
      "execution_count": null,
      "id": "53affad9-8655-4f8b-90fd-1b5e9679f13f",
      "metadata": {
        "id": "53affad9-8655-4f8b-90fd-1b5e9679f13f"
      },
      "outputs": [],
      "source": [
        "df=pd.read_csv('data4.csv')"
      ]
    },
    {
      "cell_type": "code",
      "execution_count": null,
      "id": "23ba3ccb-1895-4e59-a6bd-eaf76f71e7f0",
      "metadata": {
        "id": "23ba3ccb-1895-4e59-a6bd-eaf76f71e7f0"
      },
      "outputs": [],
      "source": [
        "\n",
        "import re\n",
        "def clean_text(text):\n",
        "   \n",
        "    clean_text = re.sub(r'<[^>]*>', '', text)\n",
        "   \n",
        "    clean_text = re.sub(r'[^a-zA-Z0-9\\s]', '', clean_text)\n",
        "    return clean_text\n",
        "\n",
        "df['cleaned_text_data'] = df['ncc'].apply(clean_text)"
      ]
    },
    {
      "cell_type": "code",
      "execution_count": null,
      "id": "caec91e7-bb65-45cc-abc4-54741d9e578b",
      "metadata": {
        "id": "caec91e7-bb65-45cc-abc4-54741d9e578b"
      },
      "outputs": [],
      "source": [
        "df=df.drop(['ncc'], axis=1)"
      ]
    },
    {
      "cell_type": "code",
      "execution_count": null,
      "id": "1fedfd16-a76a-4000-8944-5f6324282bed",
      "metadata": {
        "id": "1fedfd16-a76a-4000-8944-5f6324282bed"
      },
      "outputs": [],
      "source": [
        "import re\n",
        "\n",
        "\n",
        "def clean_text(text):\n",
        "    \n",
        "    text = re.sub(r\"\\d+\\s*\", \"\", text)\n",
        "\n",
        "    text = re.sub(r\"\\r\\n\", \" \", text)\n",
        "\n",
        "    text = re.sub(r\"[^\\w\\s.,\\-']\", \"\", text)\n",
        "\n",
        "    return text\n",
        "\n",
        "df['ncc'] = df['cleaned_text_data'].apply(clean_text)"
      ]
    },
    {
      "cell_type": "code",
      "execution_count": null,
      "id": "1c498f6a-3a87-49b2-a00b-875bb5e42aa5",
      "metadata": {
        "id": "1c498f6a-3a87-49b2-a00b-875bb5e42aa5"
      },
      "outputs": [],
      "source": [
        "df=df.drop(['cleaned_text_data'], axis=1)\n"
      ]
    },
    {
      "cell_type": "code",
      "execution_count": null,
      "id": "5185d2e8-a6b7-4a68-87fd-21b8a3dd8d8d",
      "metadata": {
        "id": "5185d2e8-a6b7-4a68-87fd-21b8a3dd8d8d"
      },
      "outputs": [],
      "source": [
        "\n",
        "df['name'] = df['name'].str.replace('.', ' ')"
      ]
    },
    {
      "cell_type": "code",
      "execution_count": null,
      "id": "2ce28f76-5200-4a13-8ae4-9e2615ae7407",
      "metadata": {
        "id": "2ce28f76-5200-4a13-8ae4-9e2615ae7407",
        "outputId": "d5a2973d-849b-4710-95b1-0737014f88ab"
      },
      "outputs": [
        {
          "data": {
            "text/html": [
              "<div>\n",
              "<style scoped>\n",
              "    .dataframe tbody tr th:only-of-type {\n",
              "        vertical-align: middle;\n",
              "    }\n",
              "\n",
              "    .dataframe tbody tr th {\n",
              "        vertical-align: top;\n",
              "    }\n",
              "\n",
              "    .dataframe thead th {\n",
              "        text-align: right;\n",
              "    }\n",
              "</style>\n",
              "<table border=\"1\" class=\"dataframe\">\n",
              "  <thead>\n",
              "    <tr style=\"text-align: right;\">\n",
              "      <th></th>\n",
              "      <th>Unnamed: 0</th>\n",
              "      <th>num</th>\n",
              "      <th>name</th>\n",
              "      <th>ncc</th>\n",
              "    </tr>\n",
              "  </thead>\n",
              "  <tbody>\n",
              "    <tr>\n",
              "      <th>0</th>\n",
              "      <td>33960</td>\n",
              "      <td>9316657</td>\n",
              "      <td>one tree hill always forever (2012)</td>\n",
              "      <td>For the past nine years weve watched them live...</td>\n",
              "    </tr>\n",
              "    <tr>\n",
              "      <th>1</th>\n",
              "      <td>63833</td>\n",
              "      <td>9445932</td>\n",
              "      <td>the traitors australia s01 e12 episode 1 12 (2...</td>\n",
              "      <td>RODGER Previously on The Traitors hotel guests...</td>\n",
              "    </tr>\n",
              "    <tr>\n",
              "      <th>2</th>\n",
              "      <td>72017</td>\n",
              "      <td>9477399</td>\n",
              "      <td>south park s26 e05 dikinbaus hot dogs ()</td>\n",
              "      <td>MTVIm goin down to South Park gonna have mysel...</td>\n",
              "    </tr>\n",
              "    <tr>\n",
              "      <th>3</th>\n",
              "      <td>42729</td>\n",
              "      <td>9355095</td>\n",
              "      <td>ghosts s02 e08 the liquor license (2022)</td>\n",
              "      <td>Got talked into buying the big carriageThats a...</td>\n",
              "    </tr>\n",
              "    <tr>\n",
              "      <th>4</th>\n",
              "      <td>21484</td>\n",
              "      <td>9267021</td>\n",
              "      <td>nova s47 e02 dog tales (2020)</td>\n",
              "      <td>This planet is home to over a billion dogsSo i...</td>\n",
              "    </tr>\n",
              "  </tbody>\n",
              "</table>\n",
              "</div>"
            ],
            "text/plain": [
              "   Unnamed: 0      num                                               name  \\\n",
              "0       33960  9316657                one tree hill always forever (2012)   \n",
              "1       63833  9445932  the traitors australia s01 e12 episode 1 12 (2...   \n",
              "2       72017  9477399           south park s26 e05 dikinbaus hot dogs ()   \n",
              "3       42729  9355095           ghosts s02 e08 the liquor license (2022)   \n",
              "4       21484  9267021                      nova s47 e02 dog tales (2020)   \n",
              "\n",
              "                                                 ncc  \n",
              "0  For the past nine years weve watched them live...  \n",
              "1  RODGER Previously on The Traitors hotel guests...  \n",
              "2  MTVIm goin down to South Park gonna have mysel...  \n",
              "3  Got talked into buying the big carriageThats a...  \n",
              "4  This planet is home to over a billion dogsSo i...  "
            ]
          },
          "execution_count": 8,
          "metadata": {},
          "output_type": "execute_result"
        }
      ],
      "source": [
        "df.head()\n"
      ]
    },
    {
      "cell_type": "code",
      "execution_count": null,
      "id": "cfc3e0fd-50ab-410c-9974-2b8ab63061e0",
      "metadata": {
        "id": "cfc3e0fd-50ab-410c-9974-2b8ab63061e0"
      },
      "outputs": [],
      "source": [
        "df.to_csv('final_csv.csv')"
      ]
    },
    {
      "cell_type": "code",
      "execution_count": null,
      "id": "555eb77d-f8af-44f2-a305-8607c440b7a7",
      "metadata": {
        "id": "555eb77d-f8af-44f2-a305-8607c440b7a7"
      },
      "outputs": [],
      "source": []
    }
  ],
  "metadata": {
    "colab": {
      "provenance": []
    },
    "kernelspec": {
      "display_name": "Python 3 (ipykernel)",
      "language": "python",
      "name": "python3"
    },
    "language_info": {
      "codemirror_mode": {
        "name": "ipython",
        "version": 3
      },
      "file_extension": ".py",
      "mimetype": "text/x-python",
      "name": "python",
      "nbconvert_exporter": "python",
      "pygments_lexer": "ipython3",
      "version": "3.12.3"
    }
  },
  "nbformat": 4,
  "nbformat_minor": 5
}
